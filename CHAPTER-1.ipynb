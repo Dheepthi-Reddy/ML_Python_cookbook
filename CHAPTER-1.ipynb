{
 "cells": [
  {
   "cell_type": "markdown",
   "id": "f013f0a3",
   "metadata": {},
   "source": [
    "# CHAPTER-1: Vectors, Matrices, and Arrays"
   ]
  },
  {
   "cell_type": "code",
   "execution_count": 88,
   "id": "f98e62e2",
   "metadata": {},
   "outputs": [],
   "source": [
    "import numpy as np"
   ]
  },
  {
   "cell_type": "markdown",
   "id": "cadde3bb",
   "metadata": {},
   "source": [
    "## 1.1 creating vectors(horizontal & vertical)"
   ]
  },
  {
   "cell_type": "code",
   "execution_count": 89,
   "id": "67df1596",
   "metadata": {},
   "outputs": [
    {
     "data": {
      "text/plain": [
       "array([1, 2, 3])"
      ]
     },
     "execution_count": 89,
     "metadata": {},
     "output_type": "execute_result"
    }
   ],
   "source": [
    "vec_row = np.array([1,2,3])\n",
    "vec_row"
   ]
  },
  {
   "cell_type": "code",
   "execution_count": 90,
   "id": "a68f2b26",
   "metadata": {},
   "outputs": [
    {
     "data": {
      "text/plain": [
       "array([[1],\n",
       "       [2],\n",
       "       [3]])"
      ]
     },
     "execution_count": 90,
     "metadata": {},
     "output_type": "execute_result"
    }
   ],
   "source": [
    "vec_col = np.array([[1],[2],[3]])\n",
    "vec_col"
   ]
  },
  {
   "cell_type": "markdown",
   "id": "2d3b7fd7",
   "metadata": {},
   "source": [
    "## 1.2 creating a matrix"
   ]
  },
  {
   "cell_type": "code",
   "execution_count": 91,
   "id": "0e5b41c7",
   "metadata": {},
   "outputs": [
    {
     "name": "stdout",
     "output_type": "stream",
     "text": [
      "type of mat is: <class 'numpy.ndarray'>\n"
     ]
    },
    {
     "data": {
      "text/plain": [
       "array([[1, 2],\n",
       "       [2, 3],\n",
       "       [3, 4]])"
      ]
     },
     "execution_count": 91,
     "metadata": {},
     "output_type": "execute_result"
    }
   ],
   "source": [
    "mat = np.array([[1,2],\n",
    "               [2,3],\n",
    "               [3,4]])\n",
    "\n",
    "print('type of mat is:',type(mat))\n",
    "mat"
   ]
  },
  {
   "cell_type": "code",
   "execution_count": 92,
   "id": "b88a53e4",
   "metadata": {},
   "outputs": [
    {
     "name": "stdout",
     "output_type": "stream",
     "text": [
      "type of mat_object is: <class 'numpy.matrix'>\n"
     ]
    },
    {
     "data": {
      "text/plain": [
       "matrix([[1, 2],\n",
       "        [2, 3],\n",
       "        [3, 4]])"
      ]
     },
     "execution_count": 92,
     "metadata": {},
     "output_type": "execute_result"
    }
   ],
   "source": [
    "mat_object = np.mat([[1,2],\n",
    "                     [2,3],\n",
    "                     [3,4]])\n",
    "\n",
    "print('type of mat_object is:',type(mat_object))\n",
    "mat_object"
   ]
  },
  {
   "cell_type": "raw",
   "id": "303a8ebc",
   "metadata": {},
   "source": [
    "The matrix data structure is not recommended for two reasons: \n",
    "First,arrays are the de facto standard data structure of NumPy. \n",
    "Second, the vast majority of NumPy operations return arrays, not matrix objects"
   ]
  },
  {
   "cell_type": "markdown",
   "id": "97cc8737",
   "metadata": {},
   "source": [
    "## 1.3 Sparse Matrix "
   ]
  },
  {
   "cell_type": "markdown",
   "id": "da5b3512",
   "metadata": {},
   "source": [
    "To represnt non-zero elements of a dataset efficiently. saprse matrix stores only non-zero elements and assume all the elements as zero thus helps in significat computational savings."
   ]
  },
  {
   "cell_type": "code",
   "execution_count": 93,
   "id": "bb24bef4",
   "metadata": {},
   "outputs": [],
   "source": [
    "from scipy import sparse"
   ]
  },
  {
   "cell_type": "code",
   "execution_count": 94,
   "id": "6990a38b",
   "metadata": {},
   "outputs": [],
   "source": [
    "matrix = np.array([[0,0],\n",
    "                    [0,1],\n",
    "                    [3,0]])\n",
    "sparse_mat = sparse.csr_matrix(matrix)\n",
    "# CSR- Compressed Sparse Matrix"
   ]
  },
  {
   "cell_type": "code",
   "execution_count": 95,
   "id": "191738c5",
   "metadata": {},
   "outputs": [
    {
     "name": "stdout",
     "output_type": "stream",
     "text": [
      "  (1, 1)\t1\n",
      "  (2, 0)\t3\n"
     ]
    }
   ],
   "source": [
    "sparse_mat\n",
    "print(sparse_mat)\n",
    "# (1,1) and (2,0) represent the indices of non-zero matrix values"
   ]
  },
  {
   "cell_type": "markdown",
   "id": "e83ef735",
   "metadata": {},
   "source": [
    "## 1.4 Selecting elements"
   ]
  },
  {
   "cell_type": "code",
   "execution_count": 96,
   "id": "3f79d9ba",
   "metadata": {},
   "outputs": [
    {
     "data": {
      "text/plain": [
       "2"
      ]
     },
     "execution_count": 96,
     "metadata": {},
     "output_type": "execute_result"
    }
   ],
   "source": [
    "vec_row[1]"
   ]
  },
  {
   "cell_type": "code",
   "execution_count": 97,
   "id": "a2f73624",
   "metadata": {},
   "outputs": [
    {
     "data": {
      "text/plain": [
       "3"
      ]
     },
     "execution_count": 97,
     "metadata": {},
     "output_type": "execute_result"
    }
   ],
   "source": [
    "mat[1,1]"
   ]
  },
  {
   "cell_type": "code",
   "execution_count": 98,
   "id": "62a184b1",
   "metadata": {},
   "outputs": [
    {
     "data": {
      "text/plain": [
       "1"
      ]
     },
     "execution_count": 98,
     "metadata": {},
     "output_type": "execute_result"
    }
   ],
   "source": [
    "mat[0,0]"
   ]
  },
  {
   "cell_type": "code",
   "execution_count": 99,
   "id": "4fe749e8",
   "metadata": {},
   "outputs": [
    {
     "data": {
      "text/plain": [
       "array([1, 2])"
      ]
     },
     "execution_count": 99,
     "metadata": {},
     "output_type": "execute_result"
    }
   ],
   "source": [
    "vec_row[:2]"
   ]
  },
  {
   "cell_type": "code",
   "execution_count": 100,
   "id": "494f5c88",
   "metadata": {},
   "outputs": [
    {
     "data": {
      "text/plain": [
       "array([1, 2, 3])"
      ]
     },
     "execution_count": 100,
     "metadata": {},
     "output_type": "execute_result"
    }
   ],
   "source": [
    "vec_row[:]"
   ]
  },
  {
   "cell_type": "code",
   "execution_count": 101,
   "id": "e812b680",
   "metadata": {},
   "outputs": [
    {
     "data": {
      "text/plain": [
       "2"
      ]
     },
     "execution_count": 101,
     "metadata": {},
     "output_type": "execute_result"
    }
   ],
   "source": [
    "vec_row[-2]"
   ]
  },
  {
   "cell_type": "code",
   "execution_count": 102,
   "id": "ca982bc4",
   "metadata": {},
   "outputs": [
    {
     "data": {
      "text/plain": [
       "array([[1, 2],\n",
       "       [2, 3],\n",
       "       [3, 4]])"
      ]
     },
     "execution_count": 102,
     "metadata": {},
     "output_type": "execute_result"
    }
   ],
   "source": [
    "mat[:,:]"
   ]
  },
  {
   "cell_type": "code",
   "execution_count": 103,
   "id": "e7ed42b9",
   "metadata": {},
   "outputs": [
    {
     "data": {
      "text/plain": [
       "array([[1],\n",
       "       [2],\n",
       "       [3]])"
      ]
     },
     "execution_count": 103,
     "metadata": {},
     "output_type": "execute_result"
    }
   ],
   "source": [
    "mat[:,:1]"
   ]
  },
  {
   "cell_type": "code",
   "execution_count": 104,
   "id": "f053bd82",
   "metadata": {},
   "outputs": [
    {
     "data": {
      "text/plain": [
       "array([[2, 3],\n",
       "       [3, 4]])"
      ]
     },
     "execution_count": 104,
     "metadata": {},
     "output_type": "execute_result"
    }
   ],
   "source": [
    "mat[1:,:]"
   ]
  },
  {
   "cell_type": "markdown",
   "id": "c4e744ed",
   "metadata": {},
   "source": [
    "## 1.5 Describing a mtrix"
   ]
  },
  {
   "cell_type": "code",
   "execution_count": 105,
   "id": "4f1f4637",
   "metadata": {},
   "outputs": [
    {
     "data": {
      "text/plain": [
       "(3, 2)"
      ]
     },
     "execution_count": 105,
     "metadata": {},
     "output_type": "execute_result"
    }
   ],
   "source": [
    "mat.shape"
   ]
  },
  {
   "cell_type": "code",
   "execution_count": 106,
   "id": "ca22c47b",
   "metadata": {},
   "outputs": [
    {
     "data": {
      "text/plain": [
       "6"
      ]
     },
     "execution_count": 106,
     "metadata": {},
     "output_type": "execute_result"
    }
   ],
   "source": [
    "mat.size\n",
    "# no of elements (rows*columns)"
   ]
  },
  {
   "cell_type": "code",
   "execution_count": 107,
   "id": "0aab221e",
   "metadata": {},
   "outputs": [
    {
     "data": {
      "text/plain": [
       "2"
      ]
     },
     "execution_count": 107,
     "metadata": {},
     "output_type": "execute_result"
    }
   ],
   "source": [
    "# no of dimensions - 2D array\n",
    "mat.ndim"
   ]
  },
  {
   "cell_type": "markdown",
   "id": "4c6cb8cf",
   "metadata": {},
   "source": [
    "## 1.6 Applying operations to elements"
   ]
  },
  {
   "cell_type": "code",
   "execution_count": 108,
   "id": "65b65583",
   "metadata": {},
   "outputs": [
    {
     "data": {
      "text/plain": [
       "array([[9, 5, 7],\n",
       "       [4, 1, 6],\n",
       "       [2, 3, 7]])"
      ]
     },
     "execution_count": 108,
     "metadata": {},
     "output_type": "execute_result"
    }
   ],
   "source": [
    "op_mat = np.array([[9,5,7],\n",
    "                 [4,1,6],\n",
    "                 [2,3,7]])\n",
    "op_mat"
   ]
  },
  {
   "cell_type": "code",
   "execution_count": 109,
   "id": "0a3c01ee",
   "metadata": {},
   "outputs": [
    {
     "data": {
      "text/plain": [
       "array([[109, 105, 107],\n",
       "       [104, 101, 106],\n",
       "       [102, 103, 107]])"
      ]
     },
     "execution_count": 109,
     "metadata": {},
     "output_type": "execute_result"
    }
   ],
   "source": [
    "add_hundred = lambda i : i + 100\n",
    "# lambda is an object behaving like a function(anonymous function)\n",
    "\n",
    "vec_add_hundred = np.vectorize(add_hundred)\n",
    "# to create vectorized function\n",
    "\n",
    "vec_add_hundred(op_mat)"
   ]
  },
  {
   "cell_type": "code",
   "execution_count": 110,
   "id": "c64cd68f",
   "metadata": {},
   "outputs": [
    {
     "data": {
      "text/plain": [
       "array([[109, 105, 107],\n",
       "       [104, 101, 106],\n",
       "       [102, 103, 107]])"
      ]
     },
     "execution_count": 110,
     "metadata": {},
     "output_type": "execute_result"
    }
   ],
   "source": [
    "op_mat+100"
   ]
  },
  {
   "cell_type": "markdown",
   "id": "6d13d355",
   "metadata": {},
   "source": [
    "## 1.7 Finding the Maximum and Minimum Values"
   ]
  },
  {
   "cell_type": "code",
   "execution_count": 111,
   "id": "d3c12ed7",
   "metadata": {},
   "outputs": [
    {
     "data": {
      "text/plain": [
       "9"
      ]
     },
     "execution_count": 111,
     "metadata": {},
     "output_type": "execute_result"
    }
   ],
   "source": [
    "np.max(op_mat)"
   ]
  },
  {
   "cell_type": "code",
   "execution_count": 112,
   "id": "49e269bf",
   "metadata": {},
   "outputs": [
    {
     "data": {
      "text/plain": [
       "1"
      ]
     },
     "execution_count": 112,
     "metadata": {},
     "output_type": "execute_result"
    }
   ],
   "source": [
    "np.min(op_mat)"
   ]
  },
  {
   "cell_type": "code",
   "execution_count": 113,
   "id": "044c0a4d",
   "metadata": {},
   "outputs": [
    {
     "data": {
      "text/plain": [
       "array([9, 5, 7])"
      ]
     },
     "execution_count": 113,
     "metadata": {},
     "output_type": "execute_result"
    }
   ],
   "source": [
    "np.max(op_mat,axis=0)\n",
    "# max value in each column"
   ]
  },
  {
   "cell_type": "code",
   "execution_count": 114,
   "id": "7f13f3ef",
   "metadata": {},
   "outputs": [
    {
     "data": {
      "text/plain": [
       "array([9, 6, 7])"
      ]
     },
     "execution_count": 114,
     "metadata": {},
     "output_type": "execute_result"
    }
   ],
   "source": [
    "np.max(op_mat,axis=1)\n",
    "# max value in each row"
   ]
  },
  {
   "cell_type": "code",
   "execution_count": 115,
   "id": "f9c50b8c",
   "metadata": {},
   "outputs": [
    {
     "data": {
      "text/plain": [
       "array([5, 1, 2])"
      ]
     },
     "execution_count": 115,
     "metadata": {},
     "output_type": "execute_result"
    }
   ],
   "source": [
    "np.min(op_mat,axis=1)\n",
    "# min value in each row"
   ]
  },
  {
   "cell_type": "code",
   "execution_count": 116,
   "id": "70d84f36",
   "metadata": {},
   "outputs": [
    {
     "data": {
      "text/plain": [
       "array([2, 1, 6])"
      ]
     },
     "execution_count": 116,
     "metadata": {},
     "output_type": "execute_result"
    }
   ],
   "source": [
    "np.min(op_mat,axis=0)\n",
    "# min value in each column"
   ]
  },
  {
   "cell_type": "markdown",
   "id": "9d3905da",
   "metadata": {},
   "source": [
    "## 1.8 Average, Variance and Standard deviation"
   ]
  },
  {
   "cell_type": "code",
   "execution_count": 117,
   "id": "e7595026",
   "metadata": {},
   "outputs": [],
   "source": [
    "# Descriptive statistics about of array"
   ]
  },
  {
   "cell_type": "code",
   "execution_count": 118,
   "id": "db77e732",
   "metadata": {},
   "outputs": [
    {
     "data": {
      "text/plain": [
       "array([[9, 5, 7],\n",
       "       [4, 1, 6],\n",
       "       [2, 3, 0]])"
      ]
     },
     "execution_count": 118,
     "metadata": {},
     "output_type": "execute_result"
    }
   ],
   "source": [
    "mats = np.array([[9,5,7],\n",
    "                 [4,1,6],\n",
    "                 [2,3,0]])\n",
    "mats"
   ]
  },
  {
   "cell_type": "code",
   "execution_count": 119,
   "id": "05624369",
   "metadata": {},
   "outputs": [
    {
     "data": {
      "text/plain": [
       "4.111111111111111"
      ]
     },
     "execution_count": 119,
     "metadata": {},
     "output_type": "execute_result"
    }
   ],
   "source": [
    "avg = np.mean(mats)\n",
    "avg"
   ]
  },
  {
   "cell_type": "code",
   "execution_count": 120,
   "id": "9d5ab908",
   "metadata": {},
   "outputs": [
    {
     "data": {
      "text/plain": [
       "7.65432098765432"
      ]
     },
     "execution_count": 120,
     "metadata": {},
     "output_type": "execute_result"
    }
   ],
   "source": [
    "variance = np.var(mats)\n",
    "variance"
   ]
  },
  {
   "cell_type": "code",
   "execution_count": 121,
   "id": "c3dcb44e",
   "metadata": {},
   "outputs": [
    {
     "data": {
      "text/plain": [
       "2.7666443551086073"
      ]
     },
     "execution_count": 121,
     "metadata": {},
     "output_type": "execute_result"
    }
   ],
   "source": [
    "sd = np.std(mats)\n",
    "sd"
   ]
  },
  {
   "cell_type": "code",
   "execution_count": 122,
   "id": "e652e454",
   "metadata": {},
   "outputs": [
    {
     "data": {
      "text/plain": [
       "array([7.        , 3.66666667, 1.66666667])"
      ]
     },
     "execution_count": 122,
     "metadata": {},
     "output_type": "execute_result"
    }
   ],
   "source": [
    "avg = np.mean(mats, axis=1)\n",
    "avg\n",
    "# average of each row elements"
   ]
  },
  {
   "cell_type": "code",
   "execution_count": 123,
   "id": "0b436d18",
   "metadata": {},
   "outputs": [
    {
     "data": {
      "text/plain": [
       "array([5.        , 3.        , 4.33333333])"
      ]
     },
     "execution_count": 123,
     "metadata": {},
     "output_type": "execute_result"
    }
   ],
   "source": [
    "avg = np.mean(mats, axis=0)\n",
    "avg\n",
    "# Average of each column elements "
   ]
  },
  {
   "cell_type": "markdown",
   "id": "c98bf95c",
   "metadata": {},
   "source": [
    "## 1.9 Reshaping arrays"
   ]
  },
  {
   "cell_type": "code",
   "execution_count": 124,
   "id": "1c099a3d",
   "metadata": {},
   "outputs": [
    {
     "data": {
      "text/plain": [
       "array([[ 9,  5,  7],\n",
       "       [ 4,  1,  6],\n",
       "       [ 2,  3,  0],\n",
       "       [11, 15,  7],\n",
       "       [ 6,  8,  2],\n",
       "       [ 5,  9,  7]])"
      ]
     },
     "execution_count": 124,
     "metadata": {},
     "output_type": "execute_result"
    }
   ],
   "source": [
    "re_mat = np.array([[9,5,7],\n",
    "                 [4,1,6],\n",
    "                 [2,3,0],\n",
    "                 [11,15,7],\n",
    "                 [6,8,2],\n",
    "                 [5,9,7]])\n",
    "re_mat"
   ]
  },
  {
   "cell_type": "code",
   "execution_count": 125,
   "id": "f3d352a4",
   "metadata": {},
   "outputs": [
    {
     "data": {
      "text/plain": [
       "18"
      ]
     },
     "execution_count": 125,
     "metadata": {},
     "output_type": "execute_result"
    }
   ],
   "source": [
    "re_mat.size"
   ]
  },
  {
   "cell_type": "code",
   "execution_count": 126,
   "id": "4aa1be1a",
   "metadata": {},
   "outputs": [
    {
     "data": {
      "text/plain": [
       "array([[ 9,  5],\n",
       "       [ 7,  4],\n",
       "       [ 1,  6],\n",
       "       [ 2,  3],\n",
       "       [ 0, 11],\n",
       "       [15,  7],\n",
       "       [ 6,  8],\n",
       "       [ 2,  5],\n",
       "       [ 9,  7]])"
      ]
     },
     "execution_count": 126,
     "metadata": {},
     "output_type": "execute_result"
    }
   ],
   "source": [
    "resp_mat = re_mat.reshape(9,2)\n",
    "resp_mat"
   ]
  },
  {
   "cell_type": "code",
   "execution_count": 127,
   "id": "60fe0d79",
   "metadata": {},
   "outputs": [
    {
     "data": {
      "text/plain": [
       "18"
      ]
     },
     "execution_count": 127,
     "metadata": {},
     "output_type": "execute_result"
    }
   ],
   "source": [
    "resp_mat.size"
   ]
  },
  {
   "cell_type": "code",
   "execution_count": 128,
   "id": "e65b6a20",
   "metadata": {},
   "outputs": [
    {
     "data": {
      "text/plain": [
       "array([[ 9],\n",
       "       [ 5],\n",
       "       [ 7],\n",
       "       [ 4],\n",
       "       [ 1],\n",
       "       [ 6],\n",
       "       [ 2],\n",
       "       [ 3],\n",
       "       [ 0],\n",
       "       [11],\n",
       "       [15],\n",
       "       [ 7],\n",
       "       [ 6],\n",
       "       [ 8],\n",
       "       [ 2],\n",
       "       [ 5],\n",
       "       [ 9],\n",
       "       [ 7]])"
      ]
     },
     "execution_count": 128,
     "metadata": {},
     "output_type": "execute_result"
    }
   ],
   "source": [
    "oneCol_mat = resp_mat.reshape(-1,1)\n",
    "oneCol_mat\n",
    "# negative value in reshape function means we can change in any way we want\n",
    "# here it creates 1 column and as many rows as needed"
   ]
  },
  {
   "cell_type": "code",
   "execution_count": 129,
   "id": "1c3a905d",
   "metadata": {},
   "outputs": [
    {
     "data": {
      "text/plain": [
       "array([[ 9,  5,  7,  4,  1,  6,  2,  3,  0, 11, 15,  7,  6,  8,  2,  5,\n",
       "         9,  7]])"
      ]
     },
     "execution_count": 129,
     "metadata": {},
     "output_type": "execute_result"
    }
   ],
   "source": [
    "oneRow_mat = resp_mat.reshape(1,-1)\n",
    "oneRow_mat\n",
    "# 1 row and as many columns as required"
   ]
  },
  {
   "cell_type": "code",
   "execution_count": 130,
   "id": "eacd8a85",
   "metadata": {},
   "outputs": [
    {
     "data": {
      "text/plain": [
       "array([[ 9,  5,  7,  4,  1,  6,  2,  3,  0],\n",
       "       [11, 15,  7,  6,  8,  2,  5,  9,  7]])"
      ]
     },
     "execution_count": 130,
     "metadata": {},
     "output_type": "execute_result"
    }
   ],
   "source": [
    "twoRow_mat = resp_mat.reshape(2,-1)\n",
    "twoRow_mat\n",
    "# 2 rows and as many columns as required"
   ]
  },
  {
   "cell_type": "markdown",
   "id": "2cbfcd9a",
   "metadata": {},
   "source": [
    "## 1.10 Transposing a vector or a matrix"
   ]
  },
  {
   "cell_type": "code",
   "execution_count": 131,
   "id": "0d441e92",
   "metadata": {},
   "outputs": [
    {
     "data": {
      "text/plain": [
       "array([1, 2, 3, 5])"
      ]
     },
     "execution_count": 131,
     "metadata": {},
     "output_type": "execute_result"
    }
   ],
   "source": [
    "np.array([1,2,3,5]).T\n",
    "# vector can not be transposed because its a collection of values"
   ]
  },
  {
   "cell_type": "code",
   "execution_count": 132,
   "id": "45c5d0ca",
   "metadata": {},
   "outputs": [
    {
     "data": {
      "text/plain": [
       "array([[1],\n",
       "       [2],\n",
       "       [3],\n",
       "       [5]])"
      ]
     },
     "execution_count": 132,
     "metadata": {},
     "output_type": "execute_result"
    }
   ],
   "source": [
    "np.array([[1,2,3,5]]).T\n",
    "# transpose of a mtrix is where the the columns and rows are swapped "
   ]
  },
  {
   "cell_type": "markdown",
   "id": "5c4a96c2",
   "metadata": {},
   "source": [
    "## 1.11 Falttening a matrix"
   ]
  },
  {
   "cell_type": "code",
   "execution_count": 133,
   "id": "2ba6cc09",
   "metadata": {},
   "outputs": [
    {
     "data": {
      "text/plain": [
       "array([1, 2, 2, 3, 3, 4])"
      ]
     },
     "execution_count": 133,
     "metadata": {},
     "output_type": "execute_result"
    }
   ],
   "source": [
    "# transforms matrix into on-dimensional array\n",
    "mat_flat = np.array([[1,2],\n",
    "                    [2,3],\n",
    "                    [3,4]])\n",
    "mat_flat.flatten()"
   ]
  },
  {
   "cell_type": "code",
   "execution_count": 134,
   "id": "3305eaed",
   "metadata": {},
   "outputs": [],
   "source": [
    "# flatten is a simple way of creating a 1-D array like resp_mat.reshape(-1,1)"
   ]
  },
  {
   "cell_type": "markdown",
   "id": "29276ea0",
   "metadata": {},
   "source": [
    "## 1.12 Finding the rank of the matrix"
   ]
  },
  {
   "cell_type": "code",
   "execution_count": 135,
   "id": "e88f7a7d",
   "metadata": {},
   "outputs": [
    {
     "data": {
      "text/plain": [
       "3"
      ]
     },
     "execution_count": 135,
     "metadata": {},
     "output_type": "execute_result"
    }
   ],
   "source": [
    "rk_mat = np.array([[9,5,7],\n",
    "                 [4,1,6],\n",
    "                 [2,3,7]])\n",
    "rank = np.linalg.matrix_rank(rk_mat)\n",
    "rank"
   ]
  },
  {
   "cell_type": "markdown",
   "id": "4aa42c5c",
   "metadata": {},
   "source": [
    "## 1.13 Determinant of a matrix"
   ]
  },
  {
   "cell_type": "code",
   "execution_count": 136,
   "id": "249955d5",
   "metadata": {},
   "outputs": [
    {
     "data": {
      "text/plain": [
       "-108.99999999999997"
      ]
     },
     "execution_count": 136,
     "metadata": {},
     "output_type": "execute_result"
    }
   ],
   "source": [
    "det = np.linalg.det(rk_mat)\n",
    "det"
   ]
  },
  {
   "cell_type": "markdown",
   "id": "c9992f7e",
   "metadata": {},
   "source": [
    "## 1.14 Diagonal of a matrix"
   ]
  },
  {
   "cell_type": "code",
   "execution_count": 137,
   "id": "0b86dabf",
   "metadata": {},
   "outputs": [
    {
     "data": {
      "text/plain": [
       "array([9, 1, 7])"
      ]
     },
     "execution_count": 137,
     "metadata": {},
     "output_type": "execute_result"
    }
   ],
   "source": [
    "diag = np.diagonal(rk_mat)\n",
    "diag"
   ]
  },
  {
   "cell_type": "code",
   "execution_count": 138,
   "id": "73221144",
   "metadata": {},
   "outputs": [
    {
     "data": {
      "text/plain": [
       "array([9, 1, 7])"
      ]
     },
     "execution_count": 138,
     "metadata": {},
     "output_type": "execute_result"
    }
   ],
   "source": [
    "rk_mat.diagonal()"
   ]
  },
  {
   "cell_type": "code",
   "execution_count": 139,
   "id": "940b919e",
   "metadata": {},
   "outputs": [
    {
     "data": {
      "text/plain": [
       "array([5, 6])"
      ]
     },
     "execution_count": 139,
     "metadata": {},
     "output_type": "execute_result"
    }
   ],
   "source": [
    "rk_mat.diagonal(offset=1)"
   ]
  },
  {
   "cell_type": "code",
   "execution_count": 140,
   "id": "d9f580a6",
   "metadata": {},
   "outputs": [
    {
     "data": {
      "text/plain": [
       "array([4, 3])"
      ]
     },
     "execution_count": 140,
     "metadata": {},
     "output_type": "execute_result"
    }
   ],
   "source": [
    "rk_mat.diagonal(offset=-1)"
   ]
  },
  {
   "cell_type": "code",
   "execution_count": 141,
   "id": "70c92a55",
   "metadata": {},
   "outputs": [
    {
     "data": {
      "text/plain": [
       "array([7])"
      ]
     },
     "execution_count": 141,
     "metadata": {},
     "output_type": "execute_result"
    }
   ],
   "source": [
    "rk_mat.diagonal(offset=2)"
   ]
  },
  {
   "cell_type": "markdown",
   "id": "3c25464b",
   "metadata": {},
   "source": [
    "## 1.15 trace of a matrix"
   ]
  },
  {
   "cell_type": "code",
   "execution_count": 142,
   "id": "5386d8e0",
   "metadata": {},
   "outputs": [
    {
     "data": {
      "text/plain": [
       "17"
      ]
     },
     "execution_count": 142,
     "metadata": {},
     "output_type": "execute_result"
    }
   ],
   "source": [
    "rk_mat.trace()\n",
    "# sum of the diagonal elements"
   ]
  },
  {
   "cell_type": "code",
   "execution_count": 143,
   "id": "ba7c798f",
   "metadata": {},
   "outputs": [
    {
     "data": {
      "text/plain": [
       "17"
      ]
     },
     "execution_count": 143,
     "metadata": {},
     "output_type": "execute_result"
    }
   ],
   "source": [
    "sum(rk_mat.diagonal())"
   ]
  },
  {
   "cell_type": "markdown",
   "id": "758d725a",
   "metadata": {},
   "source": [
    "## 1.16 Eigen values and Eigen vectors"
   ]
  },
  {
   "cell_type": "code",
   "execution_count": 144,
   "id": "3ffc0150",
   "metadata": {},
   "outputs": [],
   "source": [
    "eg_mat = np.array([[9,5,7],\n",
    "                 [4,1,6],\n",
    "                 [2,3,7]])"
   ]
  },
  {
   "cell_type": "code",
   "execution_count": 145,
   "id": "18b314f9",
   "metadata": {},
   "outputs": [],
   "source": [
    "eigenvalues, eigenvectors = np.linalg.eig(eg_mat)\n",
    "# caluclataes eigenvalues and eigenvectors"
   ]
  },
  {
   "cell_type": "code",
   "execution_count": 146,
   "id": "c3384802",
   "metadata": {},
   "outputs": [
    {
     "data": {
      "text/plain": [
       "array([14.64891671,  4.14584826, -1.79476497])"
      ]
     },
     "execution_count": 146,
     "metadata": {},
     "output_type": "execute_result"
    }
   ],
   "source": [
    "eigenvalues"
   ]
  },
  {
   "cell_type": "code",
   "execution_count": 147,
   "id": "53a2978d",
   "metadata": {},
   "outputs": [
    {
     "data": {
      "text/plain": [
       "array([[-0.83047309, -0.82756123,  0.26388016],\n",
       "       [-0.40943044,  0.01789534, -0.92965711],\n",
       "       [-0.37773159,  0.56109016,  0.25710875]])"
      ]
     },
     "execution_count": 147,
     "metadata": {},
     "output_type": "execute_result"
    }
   ],
   "source": [
    "eigenvectors"
   ]
  },
  {
   "cell_type": "code",
   "execution_count": 148,
   "id": "a0dd6a08",
   "metadata": {},
   "outputs": [],
   "source": [
    "# eigenvalues = np.linalg.eig(eg_mat)\n",
    "# eigenvalues"
   ]
  },
  {
   "cell_type": "code",
   "execution_count": 149,
   "id": "9bedcf1c",
   "metadata": {},
   "outputs": [],
   "source": [
    "# eigenvectors = np.linalg.eig(eg_mat)\n",
    "# eigenvectors"
   ]
  },
  {
   "cell_type": "code",
   "execution_count": 150,
   "id": "d5510906",
   "metadata": {},
   "outputs": [
    {
     "data": {
      "text/plain": [
       "array([14.64891671,  4.14584826, -1.79476497])"
      ]
     },
     "execution_count": 150,
     "metadata": {},
     "output_type": "execute_result"
    }
   ],
   "source": [
    "egvalues = np.linalg.eigvals(eg_mat)\n",
    "egvalues"
   ]
  },
  {
   "cell_type": "markdown",
   "id": "cf73654c",
   "metadata": {},
   "source": [
    "## 1.7 Dot products "
   ]
  },
  {
   "cell_type": "code",
   "execution_count": 151,
   "id": "9b0a7080",
   "metadata": {},
   "outputs": [],
   "source": [
    "vec_a = np.array([1,2,3])\n",
    "vec_b = np.array([4,5,6])"
   ]
  },
  {
   "cell_type": "code",
   "execution_count": 152,
   "id": "a8f14a15",
   "metadata": {},
   "outputs": [
    {
     "data": {
      "text/plain": [
       "32"
      ]
     },
     "execution_count": 152,
     "metadata": {},
     "output_type": "execute_result"
    }
   ],
   "source": [
    "np.dot(vec_a,vec_b)"
   ]
  },
  {
   "cell_type": "code",
   "execution_count": 153,
   "id": "d285202e",
   "metadata": {},
   "outputs": [
    {
     "data": {
      "text/plain": [
       "32"
      ]
     },
     "execution_count": 153,
     "metadata": {},
     "output_type": "execute_result"
    }
   ],
   "source": [
    "vec_a @ vec_b"
   ]
  },
  {
   "cell_type": "markdown",
   "id": "2ef6a9ac",
   "metadata": {},
   "source": [
    "## 1.8 Adding and subtracting matrices"
   ]
  },
  {
   "cell_type": "code",
   "execution_count": 154,
   "id": "8208324f",
   "metadata": {},
   "outputs": [],
   "source": [
    "mat_a = np.array([[9,5,7],\n",
    "                 [4,1,6],\n",
    "                 [2,3,7]])\n",
    "mat_b = np.array([[4,2,2],\n",
    "                 [9,1,1],\n",
    "                 [1,8,6]])"
   ]
  },
  {
   "cell_type": "code",
   "execution_count": 155,
   "id": "ce69121f",
   "metadata": {},
   "outputs": [
    {
     "data": {
      "text/plain": [
       "array([[13,  7,  9],\n",
       "       [13,  2,  7],\n",
       "       [ 3, 11, 13]])"
      ]
     },
     "execution_count": 155,
     "metadata": {},
     "output_type": "execute_result"
    }
   ],
   "source": [
    "mat_a + mat_b"
   ]
  },
  {
   "cell_type": "code",
   "execution_count": 156,
   "id": "70744702",
   "metadata": {},
   "outputs": [
    {
     "data": {
      "text/plain": [
       "array([[13,  7,  9],\n",
       "       [13,  2,  7],\n",
       "       [ 3, 11, 13]])"
      ]
     },
     "execution_count": 156,
     "metadata": {},
     "output_type": "execute_result"
    }
   ],
   "source": [
    "np.add(mat_a, mat_b)"
   ]
  },
  {
   "cell_type": "code",
   "execution_count": 157,
   "id": "ea70a03d",
   "metadata": {},
   "outputs": [
    {
     "data": {
      "text/plain": [
       "array([[ 5,  3,  5],\n",
       "       [-5,  0,  5],\n",
       "       [ 1, -5,  1]])"
      ]
     },
     "execution_count": 157,
     "metadata": {},
     "output_type": "execute_result"
    }
   ],
   "source": [
    "mat_a - mat_b"
   ]
  },
  {
   "cell_type": "code",
   "execution_count": 158,
   "id": "82158090",
   "metadata": {},
   "outputs": [
    {
     "data": {
      "text/plain": [
       "array([[ 5,  3,  5],\n",
       "       [-5,  0,  5],\n",
       "       [ 1, -5,  1]])"
      ]
     },
     "execution_count": 158,
     "metadata": {},
     "output_type": "execute_result"
    }
   ],
   "source": [
    "np.subtract(mat_a, mat_b)"
   ]
  },
  {
   "cell_type": "markdown",
   "id": "45674724",
   "metadata": {},
   "source": [
    "## 1.19 Multiplying matrices"
   ]
  },
  {
   "cell_type": "code",
   "execution_count": 159,
   "id": "7e07fe3d",
   "metadata": {},
   "outputs": [
    {
     "data": {
      "text/plain": [
       "array([[88, 79, 65],\n",
       "       [31, 57, 45],\n",
       "       [42, 63, 49]])"
      ]
     },
     "execution_count": 159,
     "metadata": {},
     "output_type": "execute_result"
    }
   ],
   "source": [
    "np.dot(mat_a, mat_b)"
   ]
  },
  {
   "cell_type": "code",
   "execution_count": 160,
   "id": "57bcd596",
   "metadata": {},
   "outputs": [
    {
     "data": {
      "text/plain": [
       "array([[88, 79, 65],\n",
       "       [31, 57, 45],\n",
       "       [42, 63, 49]])"
      ]
     },
     "execution_count": 160,
     "metadata": {},
     "output_type": "execute_result"
    }
   ],
   "source": [
    "mat_a @ mat_b"
   ]
  },
  {
   "cell_type": "code",
   "execution_count": 161,
   "id": "9c7bfb96",
   "metadata": {},
   "outputs": [
    {
     "data": {
      "text/plain": [
       "array([[36, 10, 14],\n",
       "       [36,  1,  6],\n",
       "       [ 2, 24, 42]])"
      ]
     },
     "execution_count": 161,
     "metadata": {},
     "output_type": "execute_result"
    }
   ],
   "source": [
    "mat_a * mat_b"
   ]
  },
  {
   "cell_type": "markdown",
   "id": "a7ec46b9",
   "metadata": {},
   "source": [
    "## 1.20 Inverting matrix"
   ]
  },
  {
   "cell_type": "code",
   "execution_count": 162,
   "id": "857064d5",
   "metadata": {},
   "outputs": [
    {
     "data": {
      "text/plain": [
       "array([[ 0.10091743,  0.12844037, -0.21100917],\n",
       "       [ 0.14678899, -0.44954128,  0.23853211],\n",
       "       [-0.09174312,  0.1559633 ,  0.10091743]])"
      ]
     },
     "execution_count": 162,
     "metadata": {},
     "output_type": "execute_result"
    }
   ],
   "source": [
    "inr = np.linalg.inv(mat_a)\n",
    "inr"
   ]
  },
  {
   "cell_type": "code",
   "execution_count": 163,
   "id": "c8ad48d1",
   "metadata": {},
   "outputs": [
    {
     "data": {
      "text/plain": [
       "array([[ 0.51376147, -0.0733945 , -0.16513761],\n",
       "       [ 0.96330275,  0.86238532, -1.55963303],\n",
       "       [ 0.72477064, -2.53211009,  2.30275229]])"
      ]
     },
     "execution_count": 163,
     "metadata": {},
     "output_type": "execute_result"
    }
   ],
   "source": [
    "# the multiplication of a matrix and its inverse is an Identity matrix\n",
    "mat_b @ inr"
   ]
  },
  {
   "cell_type": "markdown",
   "id": "e46b9ed6",
   "metadata": {},
   "source": [
    "## 1.21 Generating random values"
   ]
  },
  {
   "cell_type": "code",
   "execution_count": 173,
   "id": "c8711edf",
   "metadata": {},
   "outputs": [],
   "source": [
    "# set seed\n",
    "np.random.seed(0)\n",
    "# by setting seed to zero, the generated random numbers will take 0 as starting value"
   ]
  },
  {
   "cell_type": "code",
   "execution_count": 200,
   "id": "569aea03",
   "metadata": {},
   "outputs": [
    {
     "data": {
      "text/plain": [
       "array([0.70373728, 0.28847644, 0.43328806, 0.75610669])"
      ]
     },
     "execution_count": 200,
     "metadata": {},
     "output_type": "execute_result"
    }
   ],
   "source": [
    "np.random.random(4)\n",
    "# generating 4 random values between 0 and 1\n",
    "# this gives float"
   ]
  },
  {
   "cell_type": "code",
   "execution_count": 181,
   "id": "04110215",
   "metadata": {},
   "outputs": [
    {
     "data": {
      "text/plain": [
       "array([9, 9, 0, 4])"
      ]
     },
     "execution_count": 181,
     "metadata": {},
     "output_type": "execute_result"
    }
   ],
   "source": [
    "# for generating integers \n",
    "np.random.randint(0, 10, 4)\n",
    "# 4 integers between 0 and 10"
   ]
  },
  {
   "cell_type": "code",
   "execution_count": 171,
   "id": "f8738b80",
   "metadata": {},
   "outputs": [
    {
     "data": {
      "text/plain": [
       "array([-0.35385502,  6.86507998, -4.39074559])"
      ]
     },
     "execution_count": 171,
     "metadata": {},
     "output_type": "execute_result"
    }
   ],
   "source": [
    "# 3 random numbers from \"Normal distribution\" with mean 2, standard deviation 5\n",
    "np.random.normal(2,5,3)"
   ]
  },
  {
   "cell_type": "code",
   "execution_count": 172,
   "id": "f53e341b",
   "metadata": {},
   "outputs": [
    {
     "data": {
      "text/plain": [
       "array([17.53190133, -7.06189779, 11.50865248])"
      ]
     },
     "execution_count": 172,
     "metadata": {},
     "output_type": "execute_result"
    }
   ],
   "source": [
    "# 3 random numbers from \"Logistic distribution\" with mean 2, standard deviation 5\n",
    "np.random.logistic(2,5,3)"
   ]
  },
  {
   "cell_type": "code",
   "execution_count": null,
   "id": "1e43fa36",
   "metadata": {},
   "outputs": [],
   "source": []
  }
 ],
 "metadata": {
  "kernelspec": {
   "display_name": "Python 3 (ipykernel)",
   "language": "python",
   "name": "python3"
  },
  "language_info": {
   "codemirror_mode": {
    "name": "ipython",
    "version": 3
   },
   "file_extension": ".py",
   "mimetype": "text/x-python",
   "name": "python",
   "nbconvert_exporter": "python",
   "pygments_lexer": "ipython3",
   "version": "3.10.9"
  }
 },
 "nbformat": 4,
 "nbformat_minor": 5
}
